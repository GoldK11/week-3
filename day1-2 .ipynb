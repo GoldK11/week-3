{
 "cells": [
  {
   "cell_type": "code",
   "execution_count": 11,
   "metadata": {
    "collapsed": true
   },
   "outputs": [],
   "source": [
    "#class : account\n",
    "#첫 문자는 대문자\n",
    "\n",
    "class Account:   # class는 붕어빵 틀 같은 개념\n",
    "    \n",
    "    # class member >> instance member는 각 객체마다 다른 데이터를 가진 변수라면 class member는 모든 객체가 공유하는 데이터\n",
    "    interest_rate = 7.0\n",
    "    name='Welcome'\n",
    "    kind='Account'\n",
    "    \n",
    "    # class method >> class member가 있으면 class method도 있어야지~\n",
    "    # class method는 객체가 생성되기 전에도 호출 가능\n",
    "    @classmethod\n",
    "    def get_account_info(cls):\n",
    "        return cls.interest_rate, cls.name, cls.kind\n",
    "    \n",
    "    # >> class member, class method는 객체가 생성되기 전에도 호출 가능\n",
    "    \n",
    "    # instance member : (name 과 money는 class와) 연관있는 변수\n",
    "    #생성자: 멤버의 초기화 \n",
    "    def __init__(self,name,money):\n",
    "        self.user = name\n",
    "        self.balance = money\n",
    "    \n",
    "    #소멸자: 메모리의 해제 > but, 파이썬은 스스로 메모리를 해제하기때문에 거의 쓰이지 않음\n",
    "    def __del__(self):\n",
    "        print('Account object is deleted!')\n",
    "    \n",
    "    #instance method : 연관있는 함수\n",
    "    def deposit(self,money):\n",
    "        if money <= 0:\n",
    "            return None\n",
    "        else:\n",
    "            self.balance = self.balance + money\n",
    "            return self.balance\n",
    "        \n",
    "    def withdraw(self,money):\n",
    "        '''\n",
    "        obj.withdraw(money) ->bool(T/F)\n",
    "        '''\n",
    "        if money <= self.balance:\n",
    "            self.balance =self.balance - money \n",
    "            return True\n",
    "        else:\n",
    "            return False\n",
    "        \n",
    "    def transname(self,newname):\n",
    "        self.user = newname\n",
    "        return True\n",
    "    \n",
    "    \n",
    "    #message passing 객체간의 상호작용을 할 때는 반드시 함수 호출을 통해 통신한다!!!! 개중요!!!\n",
    "    def transfer(self,other,money):\n",
    "        result = self.withdraw(money)\n",
    "        if result:\n",
    "            #다른 객처의 함수를 호출 해 내부정보를 바꾼다 > 절대 member에 바로 접근하지 말것!!\n",
    "            other.deposit(money)\n",
    "            return True\n",
    "        else:\n",
    "            return False\n",
    "\n",
    "        \n",
    "    def __str__(self):\n",
    "        return '{} : {}'.format(self.user,self.balance)\n"
   ]
  },
  {
   "cell_type": "code",
   "execution_count": 12,
   "metadata": {
    "collapsed": true
   },
   "outputs": [],
   "source": [
    "# class : 찍어내는 틀\n",
    "# object : 실제 존재하는 객체\n",
    "\n",
    "my_acnt = Account('Greg',5000)\n",
    "your_acnt = Account('John',1000)"
   ]
  },
  {
   "cell_type": "code",
   "execution_count": 13,
   "metadata": {},
   "outputs": [
    {
     "name": "stdout",
     "output_type": "stream",
     "text": [
      "Greg : 5000\n",
      "John : 1000\n"
     ]
    }
   ],
   "source": [
    "print(my_acnt)\n",
    "print(your_acnt)"
   ]
  },
  {
   "cell_type": "code",
   "execution_count": 14,
   "metadata": {},
   "outputs": [
    {
     "data": {
      "text/plain": [
       "7000"
      ]
     },
     "execution_count": 14,
     "metadata": {},
     "output_type": "execute_result"
    }
   ],
   "source": [
    "# self 란 무엇인가\n",
    "# 함수 호출  >> 내부정보를 가진 상태(연관성 있는 함수와 변수끼리 묶인 상태)에서 자기 자신 함수를 호출해 내부정보를 수정\n",
    "# 1. object로 method 호출 >> object.method_name()\n",
    "\n",
    "my_acnt.deposit(2000)"
   ]
  },
  {
   "cell_type": "code",
   "execution_count": 15,
   "metadata": {},
   "outputs": [
    {
     "name": "stdout",
     "output_type": "stream",
     "text": [
      "Greg : 7000\n"
     ]
    }
   ],
   "source": [
    "print(my_acnt)"
   ]
  },
  {
   "cell_type": "code",
   "execution_count": 16,
   "metadata": {},
   "outputs": [
    {
     "data": {
      "text/plain": [
       "True"
      ]
     },
     "execution_count": 16,
     "metadata": {},
     "output_type": "execute_result"
    }
   ],
   "source": [
    "your_acnt.withdraw(500)"
   ]
  },
  {
   "cell_type": "code",
   "execution_count": 17,
   "metadata": {},
   "outputs": [
    {
     "name": "stdout",
     "output_type": "stream",
     "text": [
      "John : 500\n"
     ]
    }
   ],
   "source": [
    "print(your_acnt)"
   ]
  },
  {
   "cell_type": "code",
   "execution_count": 18,
   "metadata": {},
   "outputs": [
    {
     "data": {
      "text/plain": [
       "True"
      ]
     },
     "execution_count": 18,
     "metadata": {},
     "output_type": "execute_result"
    }
   ],
   "source": [
    "my_acnt.transfer(your_acnt,3000)"
   ]
  },
  {
   "cell_type": "code",
   "execution_count": 19,
   "metadata": {},
   "outputs": [
    {
     "name": "stdout",
     "output_type": "stream",
     "text": [
      "Greg : 4000\n",
      "John : 3500\n"
     ]
    }
   ],
   "source": [
    "print(my_acnt)\n",
    "print(your_acnt)"
   ]
  },
  {
   "cell_type": "code",
   "execution_count": 20,
   "metadata": {},
   "outputs": [
    {
     "data": {
      "text/plain": [
       "True"
      ]
     },
     "execution_count": 20,
     "metadata": {},
     "output_type": "execute_result"
    }
   ],
   "source": [
    "my_acnt.transname('Jenny')"
   ]
  },
  {
   "cell_type": "code",
   "execution_count": 21,
   "metadata": {},
   "outputs": [
    {
     "name": "stdout",
     "output_type": "stream",
     "text": [
      "Jenny : 4000\n"
     ]
    }
   ],
   "source": [
    "print(my_acnt)"
   ]
  },
  {
   "cell_type": "code",
   "execution_count": 22,
   "metadata": {},
   "outputs": [
    {
     "data": {
      "text/plain": [
       "6000"
      ]
     },
     "execution_count": 22,
     "metadata": {},
     "output_type": "execute_result"
    }
   ],
   "source": [
    "# 객체로 메소드 호출 방법 : 객체.함수이름()\n",
    "\n",
    "# class 를 통해 메소드 호출 (쓰이지는 않음! 그냥 아 그렇구나 하고 넘기자) : 클래스이름.함수이름()\n",
    "Account.deposit(my_acnt,2000)\n"
   ]
  },
  {
   "cell_type": "code",
   "execution_count": 23,
   "metadata": {},
   "outputs": [
    {
     "name": "stdout",
     "output_type": "stream",
     "text": [
      "Jenny : 6000\n"
     ]
    }
   ],
   "source": [
    "print(my_acnt)"
   ]
  },
  {
   "cell_type": "code",
   "execution_count": 24,
   "metadata": {},
   "outputs": [
    {
     "data": {
      "text/plain": [
       "method"
      ]
     },
     "execution_count": 24,
     "metadata": {},
     "output_type": "execute_result"
    }
   ],
   "source": [
    "type(my_acnt.deposit)"
   ]
  },
  {
   "cell_type": "code",
   "execution_count": 25,
   "metadata": {},
   "outputs": [
    {
     "data": {
      "text/plain": [
       "function"
      ]
     },
     "execution_count": 25,
     "metadata": {},
     "output_type": "execute_result"
    }
   ],
   "source": [
    "type(Account.deposit)"
   ]
  },
  {
   "cell_type": "code",
   "execution_count": 26,
   "metadata": {
    "collapsed": true
   },
   "outputs": [],
   "source": [
    "## method 와 function 무슨 차이인가?!\n",
    "# method : __func__ 와 __self__ 가 있다\n",
    "# method: 함수정보, 객체정보 두 개를 동시에 가지고 있다.\n"
   ]
  },
  {
   "cell_type": "code",
   "execution_count": 27,
   "metadata": {},
   "outputs": [
    {
     "data": {
      "text/plain": [
       "True"
      ]
     },
     "execution_count": 27,
     "metadata": {},
     "output_type": "execute_result"
    }
   ],
   "source": [
    "my_acnt.deposit.__func__ is Account.deposit"
   ]
  },
  {
   "cell_type": "code",
   "execution_count": 28,
   "metadata": {
    "scrolled": true
   },
   "outputs": [
    {
     "data": {
      "text/plain": [
       "True"
      ]
     },
     "execution_count": 28,
     "metadata": {},
     "output_type": "execute_result"
    }
   ],
   "source": [
    "my_acnt.deposit.__self__ is my_acnt"
   ]
  },
  {
   "cell_type": "code",
   "execution_count": 29,
   "metadata": {},
   "outputs": [
    {
     "name": "stdout",
     "output_type": "stream",
     "text": [
      "Jenny : 6000\n"
     ]
    }
   ],
   "source": [
    "print(my_acnt)"
   ]
  },
  {
   "cell_type": "code",
   "execution_count": 30,
   "metadata": {},
   "outputs": [
    {
     "data": {
      "text/plain": [
       "7.0"
      ]
     },
     "execution_count": 30,
     "metadata": {},
     "output_type": "execute_result"
    }
   ],
   "source": [
    "# 아직 account 클래스에서 객체가 하나도 안 만들어진 상태\n",
    "\n",
    "Account.interest_rate"
   ]
  },
  {
   "cell_type": "code",
   "execution_count": 31,
   "metadata": {},
   "outputs": [
    {
     "data": {
      "text/plain": [
       "(7.0, 'Welcome', 'Account')"
      ]
     },
     "execution_count": 31,
     "metadata": {},
     "output_type": "execute_result"
    }
   ],
   "source": [
    "Account.get_account_info()"
   ]
  },
  {
   "cell_type": "code",
   "execution_count": null,
   "metadata": {
    "collapsed": true
   },
   "outputs": [],
   "source": []
  }
 ],
 "metadata": {
  "kernelspec": {
   "display_name": "Python 3",
   "language": "python",
   "name": "python3"
  },
  "language_info": {
   "codemirror_mode": {
    "name": "ipython",
    "version": 3
   },
   "file_extension": ".py",
   "mimetype": "text/x-python",
   "name": "python",
   "nbconvert_exporter": "python",
   "pygments_lexer": "ipython3",
   "version": "3.6.2"
  }
 },
 "nbformat": 4,
 "nbformat_minor": 2
}
