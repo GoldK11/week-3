{
 "cells": [
  {
   "cell_type": "code",
   "execution_count": 8,
   "metadata": {
    "collapsed": true
   },
   "outputs": [],
   "source": [
    "class Person:\n",
    "    #class member\n",
    "    planet = 'Earth'\n",
    "    \n",
    "    def __init__(self,name,age):\n",
    "        #instance member\n",
    "        self.name = name\n",
    "        self.age = age\n",
    "        self.gender = None\n",
    "        \n",
    "    def __del__(self):\n",
    "        pass\n",
    "    \n",
    "    #instance method\n",
    "    def eat(self,food):\n",
    "        print('{} eats {}.'.format(self.name,food))\n",
    "    \n",
    "    def sleep(self,hours):\n",
    "        print('{} sleeps {} hours.'.format(self.name,hours))\n",
    "    \n",
    "    def __str__(self):\n",
    "        return '{} : {}'.format(self.name,self.age)\n",
    "\n",
    "        "
   ]
  },
  {
   "cell_type": "code",
   "execution_count": 9,
   "metadata": {},
   "outputs": [],
   "source": [
    "Me = Person('Jenny',23)"
   ]
  },
  {
   "cell_type": "code",
   "execution_count": 10,
   "metadata": {},
   "outputs": [
    {
     "name": "stdout",
     "output_type": "stream",
     "text": [
      "Jenny : 23\n"
     ]
    }
   ],
   "source": [
    "print(Me)"
   ]
  },
  {
   "cell_type": "code",
   "execution_count": 11,
   "metadata": {},
   "outputs": [
    {
     "name": "stdout",
     "output_type": "stream",
     "text": [
      "Jenny eats Apple.\n"
     ]
    }
   ],
   "source": [
    "Me.eat('Apple')"
   ]
  },
  {
   "cell_type": "code",
   "execution_count": 13,
   "metadata": {},
   "outputs": [
    {
     "name": "stdout",
     "output_type": "stream",
     "text": [
      "Jenny sleeps 6 hours.\n"
     ]
    }
   ],
   "source": [
    "Me.sleep(6)"
   ]
  },
  {
   "cell_type": "code",
   "execution_count": 58,
   "metadata": {},
   "outputs": [],
   "source": [
    "# computer 클래스 만들어보기\n",
    "# 4 개의 member : data - send/recieve(string), cpu, ram \n",
    "# 4 개의 method : get data, reciever(데이터 받기) , sender(데이터 송출)\n",
    "# + message passing : 다른 컴퓨터한테 내 data 전송\n",
    "\n",
    "\n",
    "class Computer:\n",
    "    \n",
    "    def __init__(self,cpu,ram):\n",
    "        self.cpu = cpu\n",
    "        self.ram = ram \n",
    "        self.r_data = None\n",
    "        self.s_data = None\n",
    "        \n",
    "    def get_data(self):\n",
    "        s=input('Enter the data: ')\n",
    "        self.s_data = s\n",
    "    \n",
    "    def get_s_data(self):\n",
    "        return self.s_data\n",
    "    \n",
    "    def get_r_data(self):\n",
    "        return self.r_data\n",
    "    \n",
    "    def reciever(self,other):\n",
    "        if self.r_data:\n",
    "            return False\n",
    "        else:\n",
    "            self.r_data = other.get_s_data()\n",
    "            if self.r_data:\n",
    "                return True\n",
    "            else:\n",
    "                return False\n",
    "\n",
    "    def sender(self,other):\n",
    "        if not self.s_data:\n",
    "            return False\n",
    "        else:\n",
    "            res=other.reciever(self)\n",
    "            self.s_data = None\n",
    "            return res\n",
    "        \n",
    "    def __str__(self):\n",
    "        if not self.r_data:\n",
    "            return '{} , {}'.format(self.cpu, self.ram)+' No data'\n",
    "        else:\n",
    "            return '{} , {}, {}'.format(self.cpu, self.ram, self.r_data)"
   ]
  },
  {
   "cell_type": "code",
   "execution_count": 59,
   "metadata": {},
   "outputs": [],
   "source": [
    "c1=Computer('Intel',16)"
   ]
  },
  {
   "cell_type": "code",
   "execution_count": 60,
   "metadata": {
    "collapsed": true
   },
   "outputs": [],
   "source": [
    "c2=Computer('AMD',8)"
   ]
  },
  {
   "cell_type": "code",
   "execution_count": 61,
   "metadata": {},
   "outputs": [
    {
     "name": "stdout",
     "output_type": "stream",
     "text": [
      "Intel , 16 No data\n"
     ]
    }
   ],
   "source": [
    "print(c1)"
   ]
  },
  {
   "cell_type": "code",
   "execution_count": 62,
   "metadata": {},
   "outputs": [
    {
     "name": "stdout",
     "output_type": "stream",
     "text": [
      "Enter the data: cat\n"
     ]
    }
   ],
   "source": [
    "c1.get_data()"
   ]
  },
  {
   "cell_type": "code",
   "execution_count": 63,
   "metadata": {
    "scrolled": true
   },
   "outputs": [
    {
     "name": "stdout",
     "output_type": "stream",
     "text": [
      "cat\n"
     ]
    }
   ],
   "source": [
    "print(c1.get_s_data())"
   ]
  },
  {
   "cell_type": "code",
   "execution_count": 64,
   "metadata": {},
   "outputs": [
    {
     "data": {
      "text/plain": [
       "True"
      ]
     },
     "execution_count": 64,
     "metadata": {},
     "output_type": "execute_result"
    }
   ],
   "source": [
    "c1.sender(c2)"
   ]
  },
  {
   "cell_type": "code",
   "execution_count": 65,
   "metadata": {},
   "outputs": [
    {
     "name": "stdout",
     "output_type": "stream",
     "text": [
      "AMD , 8, cat\n"
     ]
    }
   ],
   "source": [
    "print(c2)"
   ]
  },
  {
   "cell_type": "code",
   "execution_count": null,
   "metadata": {
    "collapsed": true
   },
   "outputs": [],
   "source": []
  }
 ],
 "metadata": {
  "kernelspec": {
   "display_name": "Python 3",
   "language": "python",
   "name": "python3"
  },
  "language_info": {
   "codemirror_mode": {
    "name": "ipython",
    "version": 3
   },
   "file_extension": ".py",
   "mimetype": "text/x-python",
   "name": "python",
   "nbconvert_exporter": "python",
   "pygments_lexer": "ipython3",
   "version": "3.6.2"
  }
 },
 "nbformat": 4,
 "nbformat_minor": 2
}
