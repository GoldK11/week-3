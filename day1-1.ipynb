{
 "cells": [
  {
   "cell_type": "code",
   "execution_count": 20,
   "metadata": {
    "scrolled": true
   },
   "outputs": [],
   "source": [
    "from openpyxl import *"
   ]
  },
  {
   "cell_type": "code",
   "execution_count": 21,
   "metadata": {},
   "outputs": [],
   "source": [
    "wb = load_workbook('exam.xlsx')"
   ]
  },
  {
   "cell_type": "code",
   "execution_count": 22,
   "metadata": {},
   "outputs": [
    {
     "data": {
      "text/plain": [
       "<openpyxl.workbook.workbook.Workbook at 0x67f4554160>"
      ]
     },
     "execution_count": 22,
     "metadata": {},
     "output_type": "execute_result"
    }
   ],
   "source": [
    "wb"
   ]
  },
  {
   "cell_type": "code",
   "execution_count": 23,
   "metadata": {},
   "outputs": [
    {
     "name": "stdout",
     "output_type": "stream",
     "text": [
      "['Sheet1']\n"
     ]
    }
   ],
   "source": [
    "print(wb.sheetnames)\n",
    "ws = wb.active"
   ]
  },
  {
   "cell_type": "code",
   "execution_count": 24,
   "metadata": {},
   "outputs": [
    {
     "data": {
      "text/plain": [
       "<Worksheet \"Sheet1\">"
      ]
     },
     "execution_count": 24,
     "metadata": {},
     "output_type": "execute_result"
    }
   ],
   "source": [
    "ws"
   ]
  },
  {
   "cell_type": "code",
   "execution_count": 25,
   "metadata": {
    "collapsed": true
   },
   "outputs": [],
   "source": [
    "g = ws.rows"
   ]
  },
  {
   "cell_type": "code",
   "execution_count": 26,
   "metadata": {
    "collapsed": true
   },
   "outputs": [],
   "source": [
    "keys=[]"
   ]
  },
  {
   "cell_type": "code",
   "execution_count": 27,
   "metadata": {},
   "outputs": [
    {
     "data": {
      "text/plain": [
       "(<Cell 'Sheet1'.A1>,\n",
       " <Cell 'Sheet1'.B1>,\n",
       " <Cell 'Sheet1'.C1>,\n",
       " <Cell 'Sheet1'.D1>)"
      ]
     },
     "execution_count": 27,
     "metadata": {},
     "output_type": "execute_result"
    }
   ],
   "source": [
    "cells=next(g)\n",
    "cells"
   ]
  },
  {
   "cell_type": "code",
   "execution_count": 28,
   "metadata": {
    "collapsed": true
   },
   "outputs": [],
   "source": [
    "for key in cells:\n",
    "    keys.append(key.value)"
   ]
  },
  {
   "cell_type": "code",
   "execution_count": 29,
   "metadata": {
    "scrolled": true
   },
   "outputs": [
    {
     "data": {
      "text/plain": [
       "['name', 'math', 'literature', 'science']"
      ]
     },
     "execution_count": 29,
     "metadata": {},
     "output_type": "execute_result"
    }
   ],
   "source": [
    "keys"
   ]
  },
  {
   "cell_type": "code",
   "execution_count": 30,
   "metadata": {
    "collapsed": true
   },
   "outputs": [],
   "source": [
    "student_data = []\n"
   ]
  },
  {
   "cell_type": "code",
   "execution_count": 31,
   "metadata": {},
   "outputs": [],
   "source": [
    "for row in g:\n",
    "    dic = {k:v.value for k,v in zip(keys,row)}\n",
    "    student_data.append(dic)\n",
    "# rows  >> genterateor를 cell 형태로 한줄씩 반환해준다\n"
   ]
  },
  {
   "cell_type": "code",
   "execution_count": 32,
   "metadata": {},
   "outputs": [
    {
     "data": {
      "text/plain": [
       "[{'literature': 65, 'math': 95, 'name': 'greg', 'science': 75},\n",
       " {'literature': 30, 'math': 25, 'name': 'john', 'science': 55},\n",
       " {'literature': 45, 'math': 50, 'name': 'yang', 'science': 40},\n",
       " {'literature': 65, 'math': 15, 'name': 'timothy', 'science': 90},\n",
       " {'literature': 100, 'math': 100, 'name': 'melisa', 'science': 100},\n",
       " {'literature': 15, 'math': 10, 'name': 'thor', 'science': 20},\n",
       " {'literature': 50, 'math': 25, 'name': 'elen', 'science': 100},\n",
       " {'literature': 75, 'math': 80, 'name': 'mark', 'science': 80},\n",
       " {'literature': 100, 'math': 95, 'name': 'steve', 'science': 95},\n",
       " {'literature': 20, 'math': 20, 'name': 'anna', 'science': 20}]"
      ]
     },
     "execution_count": 32,
     "metadata": {},
     "output_type": "execute_result"
    }
   ],
   "source": [
    "student_data"
   ]
  },
  {
   "cell_type": "code",
   "execution_count": 33,
   "metadata": {},
   "outputs": [
    {
     "name": "stdout",
     "output_type": "stream",
     "text": [
      "name : greg          math : 95            literature : 65      science : 75         \n",
      "name : john          math : 25            literature : 30      science : 55         \n",
      "name : yang          math : 50            literature : 45      science : 40         \n",
      "name : timothy       math : 15            literature : 65      science : 90         \n",
      "name : melisa        math : 100           literature : 100     science : 100        \n",
      "name : thor          math : 10            literature : 15      science : 20         \n",
      "name : elen          math : 25            literature : 50      science : 100        \n",
      "name : mark          math : 80            literature : 75      science : 80         \n",
      "name : steve         math : 95            literature : 100     science : 95         \n",
      "name : anna          math : 20            literature : 20      science : 20         \n"
     ]
    }
   ],
   "source": [
    "for student in student_data:\n",
    "    for k,v in student.items():\n",
    "        print('{} : {}'.format(k,v).ljust(20),end=' ')\n",
    "    print('')\n"
   ]
  },
  {
   "cell_type": "code",
   "execution_count": null,
   "metadata": {
    "collapsed": true
   },
   "outputs": [],
   "source": []
  }
 ],
 "metadata": {
  "kernelspec": {
   "display_name": "Python 3",
   "language": "python",
   "name": "python3"
  },
  "language_info": {
   "codemirror_mode": {
    "name": "ipython",
    "version": 3
   },
   "file_extension": ".py",
   "mimetype": "text/x-python",
   "name": "python",
   "nbconvert_exporter": "python",
   "pygments_lexer": "ipython3",
   "version": "3.6.2"
  }
 },
 "nbformat": 4,
 "nbformat_minor": 2
}
