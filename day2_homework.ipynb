{
 "cells": [
  {
   "cell_type": "code",
   "execution_count": 1,
   "metadata": {
    "collapsed": true
   },
   "outputs": [],
   "source": [
    "#pseudo_constructor\n",
    "#initialize object members\n",
    "def person_init(name, money):\n",
    "    obj = {'name' : name, 'money' : money}    # member\n",
    "    obj['give_money'] = Person[1]    # 이하는 method\n",
    "    obj['get_money'] = Person[2]      \n",
    "    obj['show'] = Person[3]\n",
    "    return obj\n",
    "\n",
    "#instance method\n",
    "def give_money(self, other, money):\n",
    "    self['money'] -= money\n",
    "    other['get_money'](other, money)\n",
    "    \n",
    "#instance method\n",
    "def get_money(self, money):\n",
    "    self['money'] += money\n",
    "\n",
    "#instance method\n",
    "def show(self):\n",
    "    print('{} : {}'.format(self['name'], self['money']))\n",
    "    \n",
    "#class\n",
    "#container of instance methods\n",
    "Person = person_init, give_money, get_money, show"
   ]
  },
  {
   "cell_type": "code",
   "execution_count": null,
   "metadata": {
    "collapsed": true
   },
   "outputs": [],
   "source": [
    "#object creation\n",
    "g = Person[0]('greg', 5000)\n",
    "j = Person[0]('john', 2000)\n",
    "\n",
    "\n",
    "g['show'](g)  #(g) 는 self\n",
    "j['show'](j)\n",
    "\n",
    "#message passing\n",
    "g['give_money'](g, j, 2000)\n",
    "\n",
    "\n",
    "#does it work?\n",
    "g['show'](g)\n",
    "j['show'](j)"
   ]
  }
 ],
 "metadata": {
  "kernelspec": {
   "display_name": "Python 3",
   "language": "python",
   "name": "python3"
  },
  "language_info": {
   "codemirror_mode": {
    "name": "ipython",
    "version": 3
   },
   "file_extension": ".py",
   "mimetype": "text/x-python",
   "name": "python",
   "nbconvert_exporter": "python",
   "pygments_lexer": "ipython3",
   "version": "3.6.2"
  }
 },
 "nbformat": 4,
 "nbformat_minor": 2
}
